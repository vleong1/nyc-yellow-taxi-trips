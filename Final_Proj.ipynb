{
 "cells": [
  {
   "cell_type": "markdown",
   "metadata": {},
   "source": [
    "### Table of Contents:\n",
    "- [Hypothesis](#Hypothesis)\n",
    "- [Data Wrangling](#Data-Wrangling)\n",
    "    - Data Ingestion + Data Modifications (Cleaning + Filtering)\n",
    "- [Analysis + Insights](#ANALYSIS)\n",
    "    - [Hypothesis #1](#Hypothesis-#1)\n",
    "    - [Hypothesis #2](#Hypothesis-#2)\n",
    "    - [Hypothesis #3](#Hypothesis-#3)\n",
    "    - [Hypothesis #4](#Hypothesis-#4)\n",
    "- [Challenges Encountered](#Challenges-Encountered)\n",
    "- [Conclusion / Key Takeaways](#Conclusion-/-Key-Takeaways)\n",
    "- [Future Analysis/Refinements](#Future-Analysis/Refinements)"
   ]
  },
  {
   "cell_type": "markdown",
   "metadata": {},
   "source": [
    "### Hypothesis\n",
    "\n",
    "Despite the number of trips decreasing MoM due to COVID, I expect to see:\n",
    "1. Trips drop in March due to the WFH protocol\n",
    "2. Trips to increase again in June, as that's when NYC begins to reopen and enter Phase 1 (6/8) + Phase 2 (6/22)\n",
    "3. The average trip distance and total amount to increase, as people would potentially prefer taking taxis over public transportation\n",
    "4. Single passengers to show an increase MoM vs. Group riders due to social distancing measures\n",
    "\n",
    "----"
   ]
  },
  {
   "cell_type": "markdown",
   "metadata": {},
   "source": [
    "### Data Wrangling\n",
    "\n",
    "Brief description of Filtering/Cleaning Steps:\n",
    "\n",
    "*Note: Due to the large data files, the CSVs are not attached to the repo. However, the data can be found at the [NYC Yellow Taxi Trip Records 2020](https://www1.nyc.gov/site/tlc/about/tlc-trip-record-data.page) -- Jan 2020 - Jun 2020*\n",
    "\n",
    "- Converted `tpep_pickup_datetime` to datetime\n",
    "- Converted `passenger_count`, `RatecodeID`, `payment_type` to category \n",
    "- Filtered out for:\n",
    "    - Approprate Date Range (1/1/20 - 6/30/20), as there were some date outliers\n",
    "    - Credit or Cash payment types (Types 1 or 2)\n",
    "    - Passenger counts 1-6\n",
    "    - Total amounts > 0\n",
    "    - Trip distance > 0"
   ]
  },
  {
   "cell_type": "code",
   "execution_count": 1,
   "metadata": {},
   "outputs": [],
   "source": [
    "# import the relevant Data Analysis + Data Visualization packages\n",
    "\n",
    "import pandas as pd\n",
    "import numpy as np\n",
    "import seaborn as sns\n",
    "import matplotlib.pyplot as plt\n",
    "\n",
    "%matplotlib inline"
   ]
  },
  {
   "cell_type": "code",
   "execution_count": 2,
   "metadata": {},
   "outputs": [
    {
     "name": "stdout",
     "output_type": "stream",
     "text": [
      "Index(['VendorID', 'tpep_pickup_datetime', 'tpep_dropoff_datetime',\n",
      "       'passenger_count', 'trip_distance', 'RatecodeID', 'store_and_fwd_flag',\n",
      "       'PULocationID', 'DOLocationID', 'payment_type', 'fare_amount', 'extra',\n",
      "       'mta_tax', 'tip_amount', 'tolls_amount', 'improvement_surcharge',\n",
      "       'total_amount', 'congestion_surcharge'],\n",
      "      dtype='object')\n"
     ]
    }
   ],
   "source": [
    "# read in each month's file and concat into a holistic variable\n",
    "\n",
    "jan2020 = pd.read_csv('data/yellow_tripdata_2020-01.csv', low_memory=False)\n",
    "feb2020 = pd.read_csv('data/yellow_tripdata_2020-02.csv', low_memory=False)\n",
    "mar2020 = pd.read_csv('data/yellow_tripdata_2020-03.csv', low_memory=False)\n",
    "apr2020 = pd.read_csv('data/yellow_tripdata_2020-04.csv', low_memory=False)\n",
    "may2020 = pd.read_csv('data/yellow_tripdata_2020-05.csv', low_memory=False)\n",
    "jun2020 = pd.read_csv('data/yellow_tripdata_2020-06.csv', low_memory=False)\n",
    "\n",
    "taxi2020 = pd.concat([jan2020, feb2020, mar2020, apr2020, may2020, jun2020])\n",
    "\n",
    "print(taxi2020.columns)"
   ]
  },
  {
   "cell_type": "code",
   "execution_count": 3,
   "metadata": {},
   "outputs": [
    {
     "data": {
      "text/html": [
       "<div>\n",
       "<style scoped>\n",
       "    .dataframe tbody tr th:only-of-type {\n",
       "        vertical-align: middle;\n",
       "    }\n",
       "\n",
       "    .dataframe tbody tr th {\n",
       "        vertical-align: top;\n",
       "    }\n",
       "\n",
       "    .dataframe thead th {\n",
       "        text-align: right;\n",
       "    }\n",
       "</style>\n",
       "<table border=\"1\" class=\"dataframe\">\n",
       "  <thead>\n",
       "    <tr style=\"text-align: right;\">\n",
       "      <th></th>\n",
       "      <th>VendorID</th>\n",
       "      <th>tpep_pickup_datetime</th>\n",
       "      <th>tpep_dropoff_datetime</th>\n",
       "      <th>passenger_count</th>\n",
       "      <th>trip_distance</th>\n",
       "      <th>RatecodeID</th>\n",
       "      <th>store_and_fwd_flag</th>\n",
       "      <th>PULocationID</th>\n",
       "      <th>DOLocationID</th>\n",
       "      <th>payment_type</th>\n",
       "      <th>fare_amount</th>\n",
       "      <th>extra</th>\n",
       "      <th>mta_tax</th>\n",
       "      <th>tip_amount</th>\n",
       "      <th>tolls_amount</th>\n",
       "      <th>improvement_surcharge</th>\n",
       "      <th>total_amount</th>\n",
       "      <th>congestion_surcharge</th>\n",
       "    </tr>\n",
       "  </thead>\n",
       "  <tbody>\n",
       "    <tr>\n",
       "      <th>0</th>\n",
       "      <td>1.0</td>\n",
       "      <td>2020-01-01 00:28:15</td>\n",
       "      <td>2020-01-01 00:33:03</td>\n",
       "      <td>1.0</td>\n",
       "      <td>1.2</td>\n",
       "      <td>1.0</td>\n",
       "      <td>N</td>\n",
       "      <td>238</td>\n",
       "      <td>239</td>\n",
       "      <td>1.0</td>\n",
       "      <td>6.0</td>\n",
       "      <td>3.0</td>\n",
       "      <td>0.5</td>\n",
       "      <td>1.47</td>\n",
       "      <td>0.0</td>\n",
       "      <td>0.3</td>\n",
       "      <td>11.27</td>\n",
       "      <td>2.5</td>\n",
       "    </tr>\n",
       "    <tr>\n",
       "      <th>1</th>\n",
       "      <td>1.0</td>\n",
       "      <td>2020-01-01 00:35:39</td>\n",
       "      <td>2020-01-01 00:43:04</td>\n",
       "      <td>1.0</td>\n",
       "      <td>1.2</td>\n",
       "      <td>1.0</td>\n",
       "      <td>N</td>\n",
       "      <td>239</td>\n",
       "      <td>238</td>\n",
       "      <td>1.0</td>\n",
       "      <td>7.0</td>\n",
       "      <td>3.0</td>\n",
       "      <td>0.5</td>\n",
       "      <td>1.50</td>\n",
       "      <td>0.0</td>\n",
       "      <td>0.3</td>\n",
       "      <td>12.30</td>\n",
       "      <td>2.5</td>\n",
       "    </tr>\n",
       "    <tr>\n",
       "      <th>2</th>\n",
       "      <td>1.0</td>\n",
       "      <td>2020-01-01 00:47:41</td>\n",
       "      <td>2020-01-01 00:53:52</td>\n",
       "      <td>1.0</td>\n",
       "      <td>0.6</td>\n",
       "      <td>1.0</td>\n",
       "      <td>N</td>\n",
       "      <td>238</td>\n",
       "      <td>238</td>\n",
       "      <td>1.0</td>\n",
       "      <td>6.0</td>\n",
       "      <td>3.0</td>\n",
       "      <td>0.5</td>\n",
       "      <td>1.00</td>\n",
       "      <td>0.0</td>\n",
       "      <td>0.3</td>\n",
       "      <td>10.80</td>\n",
       "      <td>2.5</td>\n",
       "    </tr>\n",
       "    <tr>\n",
       "      <th>3</th>\n",
       "      <td>1.0</td>\n",
       "      <td>2020-01-01 00:55:23</td>\n",
       "      <td>2020-01-01 01:00:14</td>\n",
       "      <td>1.0</td>\n",
       "      <td>0.8</td>\n",
       "      <td>1.0</td>\n",
       "      <td>N</td>\n",
       "      <td>238</td>\n",
       "      <td>151</td>\n",
       "      <td>1.0</td>\n",
       "      <td>5.5</td>\n",
       "      <td>0.5</td>\n",
       "      <td>0.5</td>\n",
       "      <td>1.36</td>\n",
       "      <td>0.0</td>\n",
       "      <td>0.3</td>\n",
       "      <td>8.16</td>\n",
       "      <td>0.0</td>\n",
       "    </tr>\n",
       "    <tr>\n",
       "      <th>4</th>\n",
       "      <td>2.0</td>\n",
       "      <td>2020-01-01 00:01:58</td>\n",
       "      <td>2020-01-01 00:04:16</td>\n",
       "      <td>1.0</td>\n",
       "      <td>0.0</td>\n",
       "      <td>1.0</td>\n",
       "      <td>N</td>\n",
       "      <td>193</td>\n",
       "      <td>193</td>\n",
       "      <td>2.0</td>\n",
       "      <td>3.5</td>\n",
       "      <td>0.5</td>\n",
       "      <td>0.5</td>\n",
       "      <td>0.00</td>\n",
       "      <td>0.0</td>\n",
       "      <td>0.3</td>\n",
       "      <td>4.80</td>\n",
       "      <td>0.0</td>\n",
       "    </tr>\n",
       "  </tbody>\n",
       "</table>\n",
       "</div>"
      ],
      "text/plain": [
       "   VendorID tpep_pickup_datetime tpep_dropoff_datetime  passenger_count  \\\n",
       "0       1.0  2020-01-01 00:28:15   2020-01-01 00:33:03              1.0   \n",
       "1       1.0  2020-01-01 00:35:39   2020-01-01 00:43:04              1.0   \n",
       "2       1.0  2020-01-01 00:47:41   2020-01-01 00:53:52              1.0   \n",
       "3       1.0  2020-01-01 00:55:23   2020-01-01 01:00:14              1.0   \n",
       "4       2.0  2020-01-01 00:01:58   2020-01-01 00:04:16              1.0   \n",
       "\n",
       "   trip_distance  RatecodeID store_and_fwd_flag  PULocationID  DOLocationID  \\\n",
       "0            1.2         1.0                  N           238           239   \n",
       "1            1.2         1.0                  N           239           238   \n",
       "2            0.6         1.0                  N           238           238   \n",
       "3            0.8         1.0                  N           238           151   \n",
       "4            0.0         1.0                  N           193           193   \n",
       "\n",
       "   payment_type  fare_amount  extra  mta_tax  tip_amount  tolls_amount  \\\n",
       "0           1.0          6.0    3.0      0.5        1.47           0.0   \n",
       "1           1.0          7.0    3.0      0.5        1.50           0.0   \n",
       "2           1.0          6.0    3.0      0.5        1.00           0.0   \n",
       "3           1.0          5.5    0.5      0.5        1.36           0.0   \n",
       "4           2.0          3.5    0.5      0.5        0.00           0.0   \n",
       "\n",
       "   improvement_surcharge  total_amount  congestion_surcharge  \n",
       "0                    0.3         11.27                   2.5  \n",
       "1                    0.3         12.30                   2.5  \n",
       "2                    0.3         10.80                   2.5  \n",
       "3                    0.3          8.16                   0.0  \n",
       "4                    0.3          4.80                   0.0  "
      ]
     },
     "execution_count": 3,
     "metadata": {},
     "output_type": "execute_result"
    }
   ],
   "source": [
    "# sample view of data\n",
    "\n",
    "taxi2020.head()"
   ]
  },
  {
   "cell_type": "code",
   "execution_count": 4,
   "metadata": {},
   "outputs": [
    {
     "data": {
      "text/plain": [
       "Index(['tpep_pickup_datetime', 'passenger_count', 'trip_distance',\n",
       "       'RatecodeID', 'payment_type', 'total_amount'],\n",
       "      dtype='object')"
      ]
     },
     "execution_count": 4,
     "metadata": {},
     "output_type": "execute_result"
    }
   ],
   "source": [
    "# drop columns not needed to answer hypothesis and unnecessary for analyzation\n",
    "\n",
    "taxi2020 = taxi2020.drop(labels = ['VendorID', 'tpep_dropoff_datetime', 'store_and_fwd_flag', 'PULocationID', 'DOLocationID', 'PULocationID', 'fare_amount', 'extra', 'mta_tax', \n",
    "                                   'tip_amount', 'tolls_amount', 'improvement_surcharge', 'congestion_surcharge'], axis = 1)\n",
    "\n",
    "taxi2020.columns"
   ]
  },
  {
   "cell_type": "code",
   "execution_count": 5,
   "metadata": {},
   "outputs": [
    {
     "data": {
      "text/html": [
       "<div>\n",
       "<style scoped>\n",
       "    .dataframe tbody tr th:only-of-type {\n",
       "        vertical-align: middle;\n",
       "    }\n",
       "\n",
       "    .dataframe tbody tr th {\n",
       "        vertical-align: top;\n",
       "    }\n",
       "\n",
       "    .dataframe thead th {\n",
       "        text-align: right;\n",
       "    }\n",
       "</style>\n",
       "<table border=\"1\" class=\"dataframe\">\n",
       "  <thead>\n",
       "    <tr style=\"text-align: right;\">\n",
       "      <th></th>\n",
       "      <th>tpep_pickup_datetime</th>\n",
       "      <th>passenger_count</th>\n",
       "      <th>trip_distance</th>\n",
       "      <th>RatecodeID</th>\n",
       "      <th>payment_type</th>\n",
       "      <th>total_amount</th>\n",
       "    </tr>\n",
       "  </thead>\n",
       "  <tbody>\n",
       "    <tr>\n",
       "      <th>0</th>\n",
       "      <td>2020-01-01 00:28:15</td>\n",
       "      <td>1.0</td>\n",
       "      <td>1.2</td>\n",
       "      <td>1.0</td>\n",
       "      <td>1.0</td>\n",
       "      <td>11.27</td>\n",
       "    </tr>\n",
       "    <tr>\n",
       "      <th>1</th>\n",
       "      <td>2020-01-01 00:35:39</td>\n",
       "      <td>1.0</td>\n",
       "      <td>1.2</td>\n",
       "      <td>1.0</td>\n",
       "      <td>1.0</td>\n",
       "      <td>12.30</td>\n",
       "    </tr>\n",
       "    <tr>\n",
       "      <th>2</th>\n",
       "      <td>2020-01-01 00:47:41</td>\n",
       "      <td>1.0</td>\n",
       "      <td>0.6</td>\n",
       "      <td>1.0</td>\n",
       "      <td>1.0</td>\n",
       "      <td>10.80</td>\n",
       "    </tr>\n",
       "    <tr>\n",
       "      <th>3</th>\n",
       "      <td>2020-01-01 00:55:23</td>\n",
       "      <td>1.0</td>\n",
       "      <td>0.8</td>\n",
       "      <td>1.0</td>\n",
       "      <td>1.0</td>\n",
       "      <td>8.16</td>\n",
       "    </tr>\n",
       "    <tr>\n",
       "      <th>4</th>\n",
       "      <td>2020-01-01 00:01:58</td>\n",
       "      <td>1.0</td>\n",
       "      <td>0.0</td>\n",
       "      <td>1.0</td>\n",
       "      <td>2.0</td>\n",
       "      <td>4.80</td>\n",
       "    </tr>\n",
       "  </tbody>\n",
       "</table>\n",
       "</div>"
      ],
      "text/plain": [
       "  tpep_pickup_datetime  passenger_count  trip_distance  RatecodeID  \\\n",
       "0  2020-01-01 00:28:15              1.0            1.2         1.0   \n",
       "1  2020-01-01 00:35:39              1.0            1.2         1.0   \n",
       "2  2020-01-01 00:47:41              1.0            0.6         1.0   \n",
       "3  2020-01-01 00:55:23              1.0            0.8         1.0   \n",
       "4  2020-01-01 00:01:58              1.0            0.0         1.0   \n",
       "\n",
       "   payment_type  total_amount  \n",
       "0           1.0         11.27  \n",
       "1           1.0         12.30  \n",
       "2           1.0         10.80  \n",
       "3           1.0          8.16  \n",
       "4           2.0          4.80  "
      ]
     },
     "execution_count": 5,
     "metadata": {},
     "output_type": "execute_result"
    }
   ],
   "source": [
    "# double check to ensure columns have been dropped\n",
    "\n",
    "taxi2020.head()"
   ]
  },
  {
   "cell_type": "code",
   "execution_count": 6,
   "metadata": {},
   "outputs": [
    {
     "name": "stdout",
     "output_type": "stream",
     "text": [
      "<class 'pandas.core.frame.DataFrame'>\n",
      "Int64Index: 16847778 entries, 0 to 549759\n",
      "Data columns (total 6 columns):\n",
      " #   Column                Dtype  \n",
      "---  ------                -----  \n",
      " 0   tpep_pickup_datetime  object \n",
      " 1   passenger_count       float64\n",
      " 2   trip_distance         float64\n",
      " 3   RatecodeID            float64\n",
      " 4   payment_type          float64\n",
      " 5   total_amount          float64\n",
      "dtypes: float64(5), object(1)\n",
      "memory usage: 899.8+ MB\n"
     ]
    }
   ],
   "source": [
    "# check the data types of each column\n",
    "\n",
    "taxi2020.info()"
   ]
  },
  {
   "cell_type": "code",
   "execution_count": 7,
   "metadata": {},
   "outputs": [],
   "source": [
    "# convert datetime to datetime data type\n",
    "\n",
    "taxi2020['tpep_pickup_datetime'] = pd.to_datetime(taxi2020['tpep_pickup_datetime'])"
   ]
  },
  {
   "cell_type": "code",
   "execution_count": 8,
   "metadata": {},
   "outputs": [
    {
     "name": "stdout",
     "output_type": "stream",
     "text": [
      "<class 'pandas.core.frame.DataFrame'>\n",
      "Int64Index: 16847778 entries, 0 to 549759\n",
      "Data columns (total 6 columns):\n",
      " #   Column                Dtype         \n",
      "---  ------                -----         \n",
      " 0   tpep_pickup_datetime  datetime64[ns]\n",
      " 1   passenger_count       float64       \n",
      " 2   trip_distance         float64       \n",
      " 3   RatecodeID            float64       \n",
      " 4   payment_type          float64       \n",
      " 5   total_amount          float64       \n",
      "dtypes: datetime64[ns](1), float64(5)\n",
      "memory usage: 899.8 MB\n"
     ]
    }
   ],
   "source": [
    "# double check the data types of each column\n",
    "\n",
    "taxi2020.info()"
   ]
  },
  {
   "cell_type": "code",
   "execution_count": 9,
   "metadata": {},
   "outputs": [
    {
     "data": {
      "text/plain": [
       "tpep_pickup_datetime         0\n",
       "passenger_count         280883\n",
       "trip_distance                0\n",
       "RatecodeID              280883\n",
       "payment_type            280883\n",
       "total_amount                 0\n",
       "dtype: int64"
      ]
     },
     "execution_count": 9,
     "metadata": {},
     "output_type": "execute_result"
    }
   ],
   "source": [
    "# check the amount, if any, null values in data\n",
    "\n",
    "taxi2020.isna().sum()"
   ]
  },
  {
   "cell_type": "code",
   "execution_count": 10,
   "metadata": {},
   "outputs": [],
   "source": [
    "# drop rows where passenger_count is null because this trip would be unnecessary for our analyzation. we want records with people taking a trip\n",
    "\n",
    "taxi2020.dropna(subset=['passenger_count'], inplace = True)"
   ]
  },
  {
   "cell_type": "code",
   "execution_count": 11,
   "metadata": {},
   "outputs": [
    {
     "data": {
      "text/plain": [
       "tpep_pickup_datetime    0\n",
       "passenger_count         0\n",
       "trip_distance           0\n",
       "RatecodeID              0\n",
       "payment_type            0\n",
       "total_amount            0\n",
       "dtype: int64"
      ]
     },
     "execution_count": 11,
     "metadata": {},
     "output_type": "execute_result"
    }
   ],
   "source": [
    "# double check to ensure there are no more null values in data\n",
    "\n",
    "taxi2020.isna().sum()"
   ]
  },
  {
   "cell_type": "code",
   "execution_count": 12,
   "metadata": {},
   "outputs": [
    {
     "data": {
      "text/plain": [
       "1.0    12025880\n",
       "2.0     2386784\n",
       "3.0      624782\n",
       "5.0      563588\n",
       "6.0      338163\n",
       "0.0      330810\n",
       "4.0      296741\n",
       "7.0          66\n",
       "8.0          42\n",
       "9.0          39\n",
       "Name: passenger_count, dtype: int64"
      ]
     },
     "execution_count": 12,
     "metadata": {},
     "output_type": "execute_result"
    }
   ],
   "source": [
    "# drop records where passenger count = 0 (we want records with people taking a trip) or is > 6 (maybe no more than 4 or 5 depending on how large file gets)\n",
    "# The maximum amount of passengers allowed in a yellow taxicab by law is four (4) in a four (4) passenger taxicab or five (5) passengers in a five (5) passenger taxicab, \n",
    "# except that an additional passenger must be accepted if such passenger is under the age of seven (7) and is held on the lap of an adult passenger seated in the rear.\n",
    "\n",
    "taxi2020['passenger_count'].value_counts()"
   ]
  },
  {
   "cell_type": "code",
   "execution_count": 13,
   "metadata": {},
   "outputs": [],
   "source": [
    "# filter out for passengers within the range 1 - 6\n",
    "\n",
    "taxi2020 = taxi2020[(taxi2020['passenger_count'] > 0) & (taxi2020['passenger_count'] <= 6)]"
   ]
  },
  {
   "cell_type": "code",
   "execution_count": 14,
   "metadata": {},
   "outputs": [
    {
     "data": {
      "text/plain": [
       "1.0    12025880\n",
       "2.0     2386784\n",
       "3.0      624782\n",
       "5.0      563588\n",
       "6.0      338163\n",
       "4.0      296741\n",
       "Name: passenger_count, dtype: int64"
      ]
     },
     "execution_count": 14,
     "metadata": {},
     "output_type": "execute_result"
    }
   ],
   "source": [
    "taxi2020['passenger_count'].value_counts()"
   ]
  },
  {
   "cell_type": "code",
   "execution_count": 15,
   "metadata": {},
   "outputs": [],
   "source": [
    "taxi2020['date_only'] = taxi2020['tpep_pickup_datetime'].dt.date"
   ]
  },
  {
   "cell_type": "code",
   "execution_count": 16,
   "metadata": {},
   "outputs": [],
   "source": [
    "# convert date_only to datetime data type\n",
    "\n",
    "taxi2020['date_only'] = pd.to_datetime(taxi2020['date_only'])"
   ]
  },
  {
   "cell_type": "code",
   "execution_count": 17,
   "metadata": {},
   "outputs": [
    {
     "name": "stdout",
     "output_type": "stream",
     "text": [
      "<class 'pandas.core.frame.DataFrame'>\n",
      "Int64Index: 16235938 entries, 0 to 499042\n",
      "Data columns (total 7 columns):\n",
      " #   Column                Dtype         \n",
      "---  ------                -----         \n",
      " 0   tpep_pickup_datetime  datetime64[ns]\n",
      " 1   passenger_count       float64       \n",
      " 2   trip_distance         float64       \n",
      " 3   RatecodeID            float64       \n",
      " 4   payment_type          float64       \n",
      " 5   total_amount          float64       \n",
      " 6   date_only             datetime64[ns]\n",
      "dtypes: datetime64[ns](2), float64(5)\n",
      "memory usage: 991.0 MB\n"
     ]
    }
   ],
   "source": [
    "taxi2020.info()"
   ]
  },
  {
   "cell_type": "code",
   "execution_count": 18,
   "metadata": {},
   "outputs": [
    {
     "data": {
      "text/html": [
       "<div>\n",
       "<style scoped>\n",
       "    .dataframe tbody tr th:only-of-type {\n",
       "        vertical-align: middle;\n",
       "    }\n",
       "\n",
       "    .dataframe tbody tr th {\n",
       "        vertical-align: top;\n",
       "    }\n",
       "\n",
       "    .dataframe thead th {\n",
       "        text-align: right;\n",
       "    }\n",
       "</style>\n",
       "<table border=\"1\" class=\"dataframe\">\n",
       "  <thead>\n",
       "    <tr style=\"text-align: right;\">\n",
       "      <th></th>\n",
       "      <th>tpep_pickup_datetime</th>\n",
       "      <th>passenger_count</th>\n",
       "      <th>trip_distance</th>\n",
       "      <th>RatecodeID</th>\n",
       "      <th>payment_type</th>\n",
       "      <th>total_amount</th>\n",
       "      <th>date_only</th>\n",
       "    </tr>\n",
       "  </thead>\n",
       "  <tbody>\n",
       "    <tr>\n",
       "      <th>0</th>\n",
       "      <td>2020-01-01 00:28:15</td>\n",
       "      <td>1.0</td>\n",
       "      <td>1.2</td>\n",
       "      <td>1.0</td>\n",
       "      <td>1.0</td>\n",
       "      <td>11.27</td>\n",
       "      <td>2020-01-01</td>\n",
       "    </tr>\n",
       "    <tr>\n",
       "      <th>1</th>\n",
       "      <td>2020-01-01 00:35:39</td>\n",
       "      <td>1.0</td>\n",
       "      <td>1.2</td>\n",
       "      <td>1.0</td>\n",
       "      <td>1.0</td>\n",
       "      <td>12.30</td>\n",
       "      <td>2020-01-01</td>\n",
       "    </tr>\n",
       "    <tr>\n",
       "      <th>2</th>\n",
       "      <td>2020-01-01 00:47:41</td>\n",
       "      <td>1.0</td>\n",
       "      <td>0.6</td>\n",
       "      <td>1.0</td>\n",
       "      <td>1.0</td>\n",
       "      <td>10.80</td>\n",
       "      <td>2020-01-01</td>\n",
       "    </tr>\n",
       "    <tr>\n",
       "      <th>3</th>\n",
       "      <td>2020-01-01 00:55:23</td>\n",
       "      <td>1.0</td>\n",
       "      <td>0.8</td>\n",
       "      <td>1.0</td>\n",
       "      <td>1.0</td>\n",
       "      <td>8.16</td>\n",
       "      <td>2020-01-01</td>\n",
       "    </tr>\n",
       "    <tr>\n",
       "      <th>4</th>\n",
       "      <td>2020-01-01 00:01:58</td>\n",
       "      <td>1.0</td>\n",
       "      <td>0.0</td>\n",
       "      <td>1.0</td>\n",
       "      <td>2.0</td>\n",
       "      <td>4.80</td>\n",
       "      <td>2020-01-01</td>\n",
       "    </tr>\n",
       "  </tbody>\n",
       "</table>\n",
       "</div>"
      ],
      "text/plain": [
       "  tpep_pickup_datetime  passenger_count  trip_distance  RatecodeID  \\\n",
       "0  2020-01-01 00:28:15              1.0            1.2         1.0   \n",
       "1  2020-01-01 00:35:39              1.0            1.2         1.0   \n",
       "2  2020-01-01 00:47:41              1.0            0.6         1.0   \n",
       "3  2020-01-01 00:55:23              1.0            0.8         1.0   \n",
       "4  2020-01-01 00:01:58              1.0            0.0         1.0   \n",
       "\n",
       "   payment_type  total_amount  date_only  \n",
       "0           1.0         11.27 2020-01-01  \n",
       "1           1.0         12.30 2020-01-01  \n",
       "2           1.0         10.80 2020-01-01  \n",
       "3           1.0          8.16 2020-01-01  \n",
       "4           2.0          4.80 2020-01-01  "
      ]
     },
     "execution_count": 18,
     "metadata": {},
     "output_type": "execute_result"
    }
   ],
   "source": [
    "taxi2020 = taxi2020[(taxi2020['date_only'] >= '2020-01-01') & (taxi2020['date_only'] <= '2020-06-30')]\n",
    "\n",
    "taxi2020.head()"
   ]
  },
  {
   "cell_type": "code",
   "execution_count": 19,
   "metadata": {},
   "outputs": [
    {
     "data": {
      "text/html": [
       "<div>\n",
       "<style scoped>\n",
       "    .dataframe tbody tr th:only-of-type {\n",
       "        vertical-align: middle;\n",
       "    }\n",
       "\n",
       "    .dataframe tbody tr th {\n",
       "        vertical-align: top;\n",
       "    }\n",
       "\n",
       "    .dataframe thead th {\n",
       "        text-align: right;\n",
       "    }\n",
       "</style>\n",
       "<table border=\"1\" class=\"dataframe\">\n",
       "  <thead>\n",
       "    <tr style=\"text-align: right;\">\n",
       "      <th></th>\n",
       "      <th>tpep_pickup_datetime</th>\n",
       "      <th>passenger_count</th>\n",
       "      <th>trip_distance</th>\n",
       "      <th>RatecodeID</th>\n",
       "      <th>payment_type</th>\n",
       "      <th>total_amount</th>\n",
       "      <th>date_only</th>\n",
       "    </tr>\n",
       "  </thead>\n",
       "  <tbody>\n",
       "    <tr>\n",
       "      <th>499038</th>\n",
       "      <td>2020-06-30 23:07:00</td>\n",
       "      <td>1.0</td>\n",
       "      <td>1.06</td>\n",
       "      <td>1.0</td>\n",
       "      <td>2.0</td>\n",
       "      <td>12.42</td>\n",
       "      <td>2020-06-30</td>\n",
       "    </tr>\n",
       "    <tr>\n",
       "      <th>499039</th>\n",
       "      <td>2020-06-30 23:24:49</td>\n",
       "      <td>1.0</td>\n",
       "      <td>1.52</td>\n",
       "      <td>1.0</td>\n",
       "      <td>1.0</td>\n",
       "      <td>10.56</td>\n",
       "      <td>2020-06-30</td>\n",
       "    </tr>\n",
       "    <tr>\n",
       "      <th>499040</th>\n",
       "      <td>2020-06-30 23:57:38</td>\n",
       "      <td>1.0</td>\n",
       "      <td>13.36</td>\n",
       "      <td>1.0</td>\n",
       "      <td>2.0</td>\n",
       "      <td>44.92</td>\n",
       "      <td>2020-06-30</td>\n",
       "    </tr>\n",
       "    <tr>\n",
       "      <th>499041</th>\n",
       "      <td>2020-06-30 23:08:03</td>\n",
       "      <td>1.0</td>\n",
       "      <td>2.23</td>\n",
       "      <td>1.0</td>\n",
       "      <td>2.0</td>\n",
       "      <td>14.80</td>\n",
       "      <td>2020-06-30</td>\n",
       "    </tr>\n",
       "    <tr>\n",
       "      <th>499042</th>\n",
       "      <td>2020-06-30 23:06:50</td>\n",
       "      <td>1.0</td>\n",
       "      <td>1.43</td>\n",
       "      <td>1.0</td>\n",
       "      <td>1.0</td>\n",
       "      <td>14.13</td>\n",
       "      <td>2020-06-30</td>\n",
       "    </tr>\n",
       "  </tbody>\n",
       "</table>\n",
       "</div>"
      ],
      "text/plain": [
       "       tpep_pickup_datetime  passenger_count  trip_distance  RatecodeID  \\\n",
       "499038  2020-06-30 23:07:00              1.0           1.06         1.0   \n",
       "499039  2020-06-30 23:24:49              1.0           1.52         1.0   \n",
       "499040  2020-06-30 23:57:38              1.0          13.36         1.0   \n",
       "499041  2020-06-30 23:08:03              1.0           2.23         1.0   \n",
       "499042  2020-06-30 23:06:50              1.0           1.43         1.0   \n",
       "\n",
       "        payment_type  total_amount  date_only  \n",
       "499038           2.0         12.42 2020-06-30  \n",
       "499039           1.0         10.56 2020-06-30  \n",
       "499040           2.0         44.92 2020-06-30  \n",
       "499041           2.0         14.80 2020-06-30  \n",
       "499042           1.0         14.13 2020-06-30  "
      ]
     },
     "execution_count": 19,
     "metadata": {},
     "output_type": "execute_result"
    }
   ],
   "source": [
    "taxi2020.tail()"
   ]
  },
  {
   "cell_type": "code",
   "execution_count": 20,
   "metadata": {},
   "outputs": [
    {
     "data": {
      "text/html": [
       "<div>\n",
       "<style scoped>\n",
       "    .dataframe tbody tr th:only-of-type {\n",
       "        vertical-align: middle;\n",
       "    }\n",
       "\n",
       "    .dataframe tbody tr th {\n",
       "        vertical-align: top;\n",
       "    }\n",
       "\n",
       "    .dataframe thead th {\n",
       "        text-align: right;\n",
       "    }\n",
       "</style>\n",
       "<table border=\"1\" class=\"dataframe\">\n",
       "  <thead>\n",
       "    <tr style=\"text-align: right;\">\n",
       "      <th></th>\n",
       "      <th>tpep_pickup_datetime</th>\n",
       "      <th>passenger_count</th>\n",
       "      <th>trip_distance</th>\n",
       "      <th>RatecodeID</th>\n",
       "      <th>payment_type</th>\n",
       "      <th>total_amount</th>\n",
       "      <th>date_only</th>\n",
       "    </tr>\n",
       "  </thead>\n",
       "  <tbody>\n",
       "    <tr>\n",
       "      <th>160</th>\n",
       "      <td>2020-01-01 00:54:28</td>\n",
       "      <td>1.0</td>\n",
       "      <td>0.60</td>\n",
       "      <td>1.0</td>\n",
       "      <td>3.0</td>\n",
       "      <td>-8.3</td>\n",
       "      <td>2020-01-01</td>\n",
       "    </tr>\n",
       "    <tr>\n",
       "      <th>372</th>\n",
       "      <td>2020-01-01 00:57:13</td>\n",
       "      <td>1.0</td>\n",
       "      <td>0.11</td>\n",
       "      <td>1.0</td>\n",
       "      <td>3.0</td>\n",
       "      <td>-3.8</td>\n",
       "      <td>2020-01-01</td>\n",
       "    </tr>\n",
       "    <tr>\n",
       "      <th>667</th>\n",
       "      <td>2020-01-01 00:36:31</td>\n",
       "      <td>3.0</td>\n",
       "      <td>0.18</td>\n",
       "      <td>1.0</td>\n",
       "      <td>3.0</td>\n",
       "      <td>-6.8</td>\n",
       "      <td>2020-01-01</td>\n",
       "    </tr>\n",
       "    <tr>\n",
       "      <th>677</th>\n",
       "      <td>2020-01-01 00:23:15</td>\n",
       "      <td>2.0</td>\n",
       "      <td>0.09</td>\n",
       "      <td>1.0</td>\n",
       "      <td>3.0</td>\n",
       "      <td>-6.3</td>\n",
       "      <td>2020-01-01</td>\n",
       "    </tr>\n",
       "    <tr>\n",
       "      <th>1007</th>\n",
       "      <td>2020-01-01 00:13:39</td>\n",
       "      <td>2.0</td>\n",
       "      <td>1.26</td>\n",
       "      <td>1.0</td>\n",
       "      <td>4.0</td>\n",
       "      <td>-12.3</td>\n",
       "      <td>2020-01-01</td>\n",
       "    </tr>\n",
       "    <tr>\n",
       "      <th>...</th>\n",
       "      <td>...</td>\n",
       "      <td>...</td>\n",
       "      <td>...</td>\n",
       "      <td>...</td>\n",
       "      <td>...</td>\n",
       "      <td>...</td>\n",
       "      <td>...</td>\n",
       "    </tr>\n",
       "    <tr>\n",
       "      <th>496548</th>\n",
       "      <td>2020-06-30 19:55:21</td>\n",
       "      <td>2.0</td>\n",
       "      <td>1.70</td>\n",
       "      <td>1.0</td>\n",
       "      <td>4.0</td>\n",
       "      <td>-10.8</td>\n",
       "      <td>2020-06-30</td>\n",
       "    </tr>\n",
       "    <tr>\n",
       "      <th>497180</th>\n",
       "      <td>2020-06-30 20:04:44</td>\n",
       "      <td>2.0</td>\n",
       "      <td>0.00</td>\n",
       "      <td>1.0</td>\n",
       "      <td>3.0</td>\n",
       "      <td>-3.8</td>\n",
       "      <td>2020-06-30</td>\n",
       "    </tr>\n",
       "    <tr>\n",
       "      <th>497538</th>\n",
       "      <td>2020-06-30 21:11:21</td>\n",
       "      <td>1.0</td>\n",
       "      <td>0.03</td>\n",
       "      <td>1.0</td>\n",
       "      <td>4.0</td>\n",
       "      <td>-3.8</td>\n",
       "      <td>2020-06-30</td>\n",
       "    </tr>\n",
       "    <tr>\n",
       "      <th>497984</th>\n",
       "      <td>2020-06-30 21:56:04</td>\n",
       "      <td>2.0</td>\n",
       "      <td>0.06</td>\n",
       "      <td>1.0</td>\n",
       "      <td>4.0</td>\n",
       "      <td>-6.3</td>\n",
       "      <td>2020-06-30</td>\n",
       "    </tr>\n",
       "    <tr>\n",
       "      <th>498129</th>\n",
       "      <td>2020-06-30 22:53:42</td>\n",
       "      <td>1.0</td>\n",
       "      <td>5.18</td>\n",
       "      <td>1.0</td>\n",
       "      <td>4.0</td>\n",
       "      <td>-22.3</td>\n",
       "      <td>2020-06-30</td>\n",
       "    </tr>\n",
       "  </tbody>\n",
       "</table>\n",
       "<p>55721 rows × 7 columns</p>\n",
       "</div>"
      ],
      "text/plain": [
       "       tpep_pickup_datetime  passenger_count  trip_distance  RatecodeID  \\\n",
       "160     2020-01-01 00:54:28              1.0           0.60         1.0   \n",
       "372     2020-01-01 00:57:13              1.0           0.11         1.0   \n",
       "667     2020-01-01 00:36:31              3.0           0.18         1.0   \n",
       "677     2020-01-01 00:23:15              2.0           0.09         1.0   \n",
       "1007    2020-01-01 00:13:39              2.0           1.26         1.0   \n",
       "...                     ...              ...            ...         ...   \n",
       "496548  2020-06-30 19:55:21              2.0           1.70         1.0   \n",
       "497180  2020-06-30 20:04:44              2.0           0.00         1.0   \n",
       "497538  2020-06-30 21:11:21              1.0           0.03         1.0   \n",
       "497984  2020-06-30 21:56:04              2.0           0.06         1.0   \n",
       "498129  2020-06-30 22:53:42              1.0           5.18         1.0   \n",
       "\n",
       "        payment_type  total_amount  date_only  \n",
       "160              3.0          -8.3 2020-01-01  \n",
       "372              3.0          -3.8 2020-01-01  \n",
       "667              3.0          -6.8 2020-01-01  \n",
       "677              3.0          -6.3 2020-01-01  \n",
       "1007             4.0         -12.3 2020-01-01  \n",
       "...              ...           ...        ...  \n",
       "496548           4.0         -10.8 2020-06-30  \n",
       "497180           3.0          -3.8 2020-06-30  \n",
       "497538           4.0          -3.8 2020-06-30  \n",
       "497984           4.0          -6.3 2020-06-30  \n",
       "498129           4.0         -22.3 2020-06-30  \n",
       "\n",
       "[55721 rows x 7 columns]"
      ]
     },
     "execution_count": 20,
     "metadata": {},
     "output_type": "execute_result"
    }
   ],
   "source": [
    "# checking to see if any total_amount is negative...\n",
    "\n",
    "taxi2020[taxi2020['total_amount'] < 0]"
   ]
  },
  {
   "cell_type": "code",
   "execution_count": 21,
   "metadata": {},
   "outputs": [],
   "source": [
    "# filtering out for a trip that is grater than $0\n",
    "\n",
    "taxi2020 = taxi2020[taxi2020['total_amount'] > 0]"
   ]
  },
  {
   "cell_type": "code",
   "execution_count": 22,
   "metadata": {},
   "outputs": [
    {
     "data": {
      "text/plain": [
       "1.0    11998006\n",
       "2.0     4086801\n",
       "3.0       67195\n",
       "4.0       23417\n",
       "5.0          12\n",
       "Name: payment_type, dtype: int64"
      ]
     },
     "execution_count": 22,
     "metadata": {},
     "output_type": "execute_result"
    }
   ],
   "source": [
    "# check if payment_type is within list 1-5\n",
    "# 1= Credit card\n",
    "# 2= Cash\n",
    "# 3= No charge\n",
    "# 4= Dispute\n",
    "# 5= Unknown\n",
    "# 6= Voided trip\n",
    "\n",
    "taxi2020['payment_type'].value_counts()"
   ]
  },
  {
   "cell_type": "code",
   "execution_count": 23,
   "metadata": {},
   "outputs": [],
   "source": [
    "# filtering out for payment types 1 or 2\n",
    "\n",
    "taxi2020 = taxi2020[(taxi2020['payment_type'] == 1) | (taxi2020['payment_type'] == 2)]"
   ]
  },
  {
   "cell_type": "code",
   "execution_count": 24,
   "metadata": {},
   "outputs": [
    {
     "data": {
      "text/plain": [
       "1.0    11998006\n",
       "2.0     4086801\n",
       "Name: payment_type, dtype: int64"
      ]
     },
     "execution_count": 24,
     "metadata": {},
     "output_type": "execute_result"
    }
   ],
   "source": [
    "taxi2020['payment_type'].value_counts()"
   ]
  },
  {
   "cell_type": "code",
   "execution_count": 25,
   "metadata": {},
   "outputs": [
    {
     "data": {
      "text/plain": [
       "1.0     15604483\n",
       "2.0       352447\n",
       "5.0        83708\n",
       "3.0        31095\n",
       "4.0        12393\n",
       "99.0         629\n",
       "6.0           52\n",
       "Name: RatecodeID, dtype: int64"
      ]
     },
     "execution_count": 25,
     "metadata": {},
     "output_type": "execute_result"
    }
   ],
   "source": [
    "# checking to ensure all RatecodeIDs are within the list of 1-6\n",
    "# 1=Standard rate\n",
    "# 2=JFK\n",
    "# 3=Newark\n",
    "# 4=Nassau or Westchester\n",
    "# 5=Negotiated fare\n",
    "# 6=Group ride\n",
    "\n",
    "taxi2020['RatecodeID'].value_counts()"
   ]
  },
  {
   "cell_type": "code",
   "execution_count": 26,
   "metadata": {},
   "outputs": [],
   "source": [
    "# filtering out for Rate Codes that aren't within the list of 1-6\n",
    "\n",
    "taxi2020 = taxi2020[taxi2020['RatecodeID'] <= 6]"
   ]
  },
  {
   "cell_type": "code",
   "execution_count": 27,
   "metadata": {},
   "outputs": [
    {
     "data": {
      "text/plain": [
       "1.0    15604483\n",
       "2.0      352447\n",
       "5.0       83708\n",
       "3.0       31095\n",
       "4.0       12393\n",
       "6.0          52\n",
       "Name: RatecodeID, dtype: int64"
      ]
     },
     "execution_count": 27,
     "metadata": {},
     "output_type": "execute_result"
    }
   ],
   "source": [
    "# double check to ensure the data is filtered\n",
    "\n",
    "taxi2020['RatecodeID'].value_counts()"
   ]
  },
  {
   "cell_type": "code",
   "execution_count": 28,
   "metadata": {},
   "outputs": [
    {
     "data": {
      "text/plain": [
       "(162661, 7)"
      ]
     },
     "execution_count": 28,
     "metadata": {},
     "output_type": "execute_result"
    }
   ],
   "source": [
    "# checking for trip distances <= 0 bc it wouldn't make sense to count as a trip if distance is <= 0\n",
    "\n",
    "taxi2020[taxi2020['trip_distance'] <= 0].shape"
   ]
  },
  {
   "cell_type": "code",
   "execution_count": 29,
   "metadata": {},
   "outputs": [],
   "source": [
    "# filtering for trip distances > 0\n",
    "\n",
    "taxi2020 = taxi2020[taxi2020['trip_distance'] > 0]"
   ]
  },
  {
   "cell_type": "code",
   "execution_count": 30,
   "metadata": {},
   "outputs": [
    {
     "data": {
      "text/plain": [
       "(0, 7)"
      ]
     },
     "execution_count": 30,
     "metadata": {},
     "output_type": "execute_result"
    }
   ],
   "source": [
    "# double checking data filtered properly\n",
    "\n",
    "taxi2020[taxi2020['trip_distance'] <= 0].shape"
   ]
  },
  {
   "cell_type": "code",
   "execution_count": 31,
   "metadata": {},
   "outputs": [
    {
     "data": {
      "text/html": [
       "<div>\n",
       "<style scoped>\n",
       "    .dataframe tbody tr th:only-of-type {\n",
       "        vertical-align: middle;\n",
       "    }\n",
       "\n",
       "    .dataframe tbody tr th {\n",
       "        vertical-align: top;\n",
       "    }\n",
       "\n",
       "    .dataframe thead th {\n",
       "        text-align: right;\n",
       "    }\n",
       "</style>\n",
       "<table border=\"1\" class=\"dataframe\">\n",
       "  <thead>\n",
       "    <tr style=\"text-align: right;\">\n",
       "      <th></th>\n",
       "      <th>tpep_pickup_datetime</th>\n",
       "      <th>passenger_count</th>\n",
       "      <th>trip_distance</th>\n",
       "      <th>RatecodeID</th>\n",
       "      <th>payment_type</th>\n",
       "      <th>total_amount</th>\n",
       "      <th>date_only</th>\n",
       "    </tr>\n",
       "  </thead>\n",
       "  <tbody>\n",
       "    <tr>\n",
       "      <th>163579</th>\n",
       "      <td>2020-06-12 16:38:01</td>\n",
       "      <td>1.0</td>\n",
       "      <td>22543.99</td>\n",
       "      <td>5.0</td>\n",
       "      <td>2.0</td>\n",
       "      <td>67.00</td>\n",
       "      <td>2020-06-12</td>\n",
       "    </tr>\n",
       "    <tr>\n",
       "      <th>29008</th>\n",
       "      <td>2020-05-04 17:26:27</td>\n",
       "      <td>1.0</td>\n",
       "      <td>10973.55</td>\n",
       "      <td>5.0</td>\n",
       "      <td>2.0</td>\n",
       "      <td>19.29</td>\n",
       "      <td>2020-05-04</td>\n",
       "    </tr>\n",
       "    <tr>\n",
       "      <th>14010</th>\n",
       "      <td>2020-06-02 06:36:15</td>\n",
       "      <td>1.0</td>\n",
       "      <td>441.60</td>\n",
       "      <td>5.0</td>\n",
       "      <td>2.0</td>\n",
       "      <td>300.30</td>\n",
       "      <td>2020-06-02</td>\n",
       "    </tr>\n",
       "    <tr>\n",
       "      <th>1582817</th>\n",
       "      <td>2020-02-08 08:58:50</td>\n",
       "      <td>3.0</td>\n",
       "      <td>369.94</td>\n",
       "      <td>3.0</td>\n",
       "      <td>2.0</td>\n",
       "      <td>960.80</td>\n",
       "      <td>2020-02-08</td>\n",
       "    </tr>\n",
       "    <tr>\n",
       "      <th>2744190</th>\n",
       "      <td>2020-03-17 13:38:51</td>\n",
       "      <td>1.0</td>\n",
       "      <td>310.90</td>\n",
       "      <td>1.0</td>\n",
       "      <td>1.0</td>\n",
       "      <td>1023.67</td>\n",
       "      <td>2020-03-17</td>\n",
       "    </tr>\n",
       "    <tr>\n",
       "      <th>133195</th>\n",
       "      <td>2020-05-16 12:19:05</td>\n",
       "      <td>2.0</td>\n",
       "      <td>305.10</td>\n",
       "      <td>1.0</td>\n",
       "      <td>1.0</td>\n",
       "      <td>1042.82</td>\n",
       "      <td>2020-05-16</td>\n",
       "    </tr>\n",
       "    <tr>\n",
       "      <th>2424311</th>\n",
       "      <td>2020-02-12 11:36:07</td>\n",
       "      <td>2.0</td>\n",
       "      <td>274.50</td>\n",
       "      <td>3.0</td>\n",
       "      <td>1.0</td>\n",
       "      <td>897.06</td>\n",
       "      <td>2020-02-12</td>\n",
       "    </tr>\n",
       "    <tr>\n",
       "      <th>419346</th>\n",
       "      <td>2020-06-26 19:11:41</td>\n",
       "      <td>1.0</td>\n",
       "      <td>270.32</td>\n",
       "      <td>3.0</td>\n",
       "      <td>2.0</td>\n",
       "      <td>758.79</td>\n",
       "      <td>2020-06-26</td>\n",
       "    </tr>\n",
       "    <tr>\n",
       "      <th>2154680</th>\n",
       "      <td>2020-01-12 09:19:23</td>\n",
       "      <td>4.0</td>\n",
       "      <td>262.88</td>\n",
       "      <td>5.0</td>\n",
       "      <td>1.0</td>\n",
       "      <td>658.35</td>\n",
       "      <td>2020-01-12</td>\n",
       "    </tr>\n",
       "    <tr>\n",
       "      <th>565751</th>\n",
       "      <td>2020-01-04 12:52:02</td>\n",
       "      <td>4.0</td>\n",
       "      <td>259.22</td>\n",
       "      <td>5.0</td>\n",
       "      <td>2.0</td>\n",
       "      <td>577.80</td>\n",
       "      <td>2020-01-04</td>\n",
       "    </tr>\n",
       "  </tbody>\n",
       "</table>\n",
       "</div>"
      ],
      "text/plain": [
       "        tpep_pickup_datetime  passenger_count  trip_distance  RatecodeID  \\\n",
       "163579   2020-06-12 16:38:01              1.0       22543.99         5.0   \n",
       "29008    2020-05-04 17:26:27              1.0       10973.55         5.0   \n",
       "14010    2020-06-02 06:36:15              1.0         441.60         5.0   \n",
       "1582817  2020-02-08 08:58:50              3.0         369.94         3.0   \n",
       "2744190  2020-03-17 13:38:51              1.0         310.90         1.0   \n",
       "133195   2020-05-16 12:19:05              2.0         305.10         1.0   \n",
       "2424311  2020-02-12 11:36:07              2.0         274.50         3.0   \n",
       "419346   2020-06-26 19:11:41              1.0         270.32         3.0   \n",
       "2154680  2020-01-12 09:19:23              4.0         262.88         5.0   \n",
       "565751   2020-01-04 12:52:02              4.0         259.22         5.0   \n",
       "\n",
       "         payment_type  total_amount  date_only  \n",
       "163579            2.0         67.00 2020-06-12  \n",
       "29008             2.0         19.29 2020-05-04  \n",
       "14010             2.0        300.30 2020-06-02  \n",
       "1582817           2.0        960.80 2020-02-08  \n",
       "2744190           1.0       1023.67 2020-03-17  \n",
       "133195            1.0       1042.82 2020-05-16  \n",
       "2424311           1.0        897.06 2020-02-12  \n",
       "419346            2.0        758.79 2020-06-26  \n",
       "2154680           1.0        658.35 2020-01-12  \n",
       "565751            2.0        577.80 2020-01-04  "
      ]
     },
     "execution_count": 31,
     "metadata": {},
     "output_type": "execute_result"
    }
   ],
   "source": [
    "# checking for outlier trip distances\n",
    "\n",
    "taxi2020.sort_values('trip_distance', ascending = False).head(10)"
   ]
  },
  {
   "cell_type": "code",
   "execution_count": 32,
   "metadata": {},
   "outputs": [],
   "source": [
    "taxi2020 = taxi2020[taxi2020['trip_distance'] < 500]"
   ]
  },
  {
   "cell_type": "code",
   "execution_count": 33,
   "metadata": {},
   "outputs": [
    {
     "data": {
      "text/html": [
       "<div>\n",
       "<style scoped>\n",
       "    .dataframe tbody tr th:only-of-type {\n",
       "        vertical-align: middle;\n",
       "    }\n",
       "\n",
       "    .dataframe tbody tr th {\n",
       "        vertical-align: top;\n",
       "    }\n",
       "\n",
       "    .dataframe thead th {\n",
       "        text-align: right;\n",
       "    }\n",
       "</style>\n",
       "<table border=\"1\" class=\"dataframe\">\n",
       "  <thead>\n",
       "    <tr style=\"text-align: right;\">\n",
       "      <th></th>\n",
       "      <th>tpep_pickup_datetime</th>\n",
       "      <th>passenger_count</th>\n",
       "      <th>trip_distance</th>\n",
       "      <th>RatecodeID</th>\n",
       "      <th>payment_type</th>\n",
       "      <th>total_amount</th>\n",
       "      <th>date_only</th>\n",
       "    </tr>\n",
       "  </thead>\n",
       "  <tbody>\n",
       "    <tr>\n",
       "      <th>14010</th>\n",
       "      <td>2020-06-02 06:36:15</td>\n",
       "      <td>1.0</td>\n",
       "      <td>441.60</td>\n",
       "      <td>5.0</td>\n",
       "      <td>2.0</td>\n",
       "      <td>300.30</td>\n",
       "      <td>2020-06-02</td>\n",
       "    </tr>\n",
       "    <tr>\n",
       "      <th>1582817</th>\n",
       "      <td>2020-02-08 08:58:50</td>\n",
       "      <td>3.0</td>\n",
       "      <td>369.94</td>\n",
       "      <td>3.0</td>\n",
       "      <td>2.0</td>\n",
       "      <td>960.80</td>\n",
       "      <td>2020-02-08</td>\n",
       "    </tr>\n",
       "    <tr>\n",
       "      <th>2744190</th>\n",
       "      <td>2020-03-17 13:38:51</td>\n",
       "      <td>1.0</td>\n",
       "      <td>310.90</td>\n",
       "      <td>1.0</td>\n",
       "      <td>1.0</td>\n",
       "      <td>1023.67</td>\n",
       "      <td>2020-03-17</td>\n",
       "    </tr>\n",
       "    <tr>\n",
       "      <th>133195</th>\n",
       "      <td>2020-05-16 12:19:05</td>\n",
       "      <td>2.0</td>\n",
       "      <td>305.10</td>\n",
       "      <td>1.0</td>\n",
       "      <td>1.0</td>\n",
       "      <td>1042.82</td>\n",
       "      <td>2020-05-16</td>\n",
       "    </tr>\n",
       "    <tr>\n",
       "      <th>2424311</th>\n",
       "      <td>2020-02-12 11:36:07</td>\n",
       "      <td>2.0</td>\n",
       "      <td>274.50</td>\n",
       "      <td>3.0</td>\n",
       "      <td>1.0</td>\n",
       "      <td>897.06</td>\n",
       "      <td>2020-02-12</td>\n",
       "    </tr>\n",
       "    <tr>\n",
       "      <th>419346</th>\n",
       "      <td>2020-06-26 19:11:41</td>\n",
       "      <td>1.0</td>\n",
       "      <td>270.32</td>\n",
       "      <td>3.0</td>\n",
       "      <td>2.0</td>\n",
       "      <td>758.79</td>\n",
       "      <td>2020-06-26</td>\n",
       "    </tr>\n",
       "    <tr>\n",
       "      <th>2154680</th>\n",
       "      <td>2020-01-12 09:19:23</td>\n",
       "      <td>4.0</td>\n",
       "      <td>262.88</td>\n",
       "      <td>5.0</td>\n",
       "      <td>1.0</td>\n",
       "      <td>658.35</td>\n",
       "      <td>2020-01-12</td>\n",
       "    </tr>\n",
       "    <tr>\n",
       "      <th>565751</th>\n",
       "      <td>2020-01-04 12:52:02</td>\n",
       "      <td>4.0</td>\n",
       "      <td>259.22</td>\n",
       "      <td>5.0</td>\n",
       "      <td>2.0</td>\n",
       "      <td>577.80</td>\n",
       "      <td>2020-01-04</td>\n",
       "    </tr>\n",
       "    <tr>\n",
       "      <th>179521</th>\n",
       "      <td>2020-06-13 19:48:13</td>\n",
       "      <td>1.0</td>\n",
       "      <td>259.13</td>\n",
       "      <td>5.0</td>\n",
       "      <td>1.0</td>\n",
       "      <td>422.29</td>\n",
       "      <td>2020-06-13</td>\n",
       "    </tr>\n",
       "    <tr>\n",
       "      <th>3813213</th>\n",
       "      <td>2020-01-20 11:31:59</td>\n",
       "      <td>2.0</td>\n",
       "      <td>241.64</td>\n",
       "      <td>1.0</td>\n",
       "      <td>2.0</td>\n",
       "      <td>617.30</td>\n",
       "      <td>2020-01-20</td>\n",
       "    </tr>\n",
       "  </tbody>\n",
       "</table>\n",
       "</div>"
      ],
      "text/plain": [
       "        tpep_pickup_datetime  passenger_count  trip_distance  RatecodeID  \\\n",
       "14010    2020-06-02 06:36:15              1.0         441.60         5.0   \n",
       "1582817  2020-02-08 08:58:50              3.0         369.94         3.0   \n",
       "2744190  2020-03-17 13:38:51              1.0         310.90         1.0   \n",
       "133195   2020-05-16 12:19:05              2.0         305.10         1.0   \n",
       "2424311  2020-02-12 11:36:07              2.0         274.50         3.0   \n",
       "419346   2020-06-26 19:11:41              1.0         270.32         3.0   \n",
       "2154680  2020-01-12 09:19:23              4.0         262.88         5.0   \n",
       "565751   2020-01-04 12:52:02              4.0         259.22         5.0   \n",
       "179521   2020-06-13 19:48:13              1.0         259.13         5.0   \n",
       "3813213  2020-01-20 11:31:59              2.0         241.64         1.0   \n",
       "\n",
       "         payment_type  total_amount  date_only  \n",
       "14010             2.0        300.30 2020-06-02  \n",
       "1582817           2.0        960.80 2020-02-08  \n",
       "2744190           1.0       1023.67 2020-03-17  \n",
       "133195            1.0       1042.82 2020-05-16  \n",
       "2424311           1.0        897.06 2020-02-12  \n",
       "419346            2.0        758.79 2020-06-26  \n",
       "2154680           1.0        658.35 2020-01-12  \n",
       "565751            2.0        577.80 2020-01-04  \n",
       "179521            1.0        422.29 2020-06-13  \n",
       "3813213           2.0        617.30 2020-01-20  "
      ]
     },
     "execution_count": 33,
     "metadata": {},
     "output_type": "execute_result"
    }
   ],
   "source": [
    "taxi2020.sort_values('trip_distance', ascending = False).head(10)"
   ]
  },
  {
   "cell_type": "code",
   "execution_count": 34,
   "metadata": {},
   "outputs": [],
   "source": [
    "for col in ['RatecodeID', 'payment_type', 'passenger_count']:\n",
    "    taxi2020[col] = taxi2020[col].astype('category')"
   ]
  },
  {
   "cell_type": "code",
   "execution_count": 35,
   "metadata": {},
   "outputs": [
    {
     "name": "stdout",
     "output_type": "stream",
     "text": [
      "<class 'pandas.core.frame.DataFrame'>\n",
      "Int64Index: 15921515 entries, 0 to 499042\n",
      "Data columns (total 7 columns):\n",
      " #   Column                Dtype         \n",
      "---  ------                -----         \n",
      " 0   tpep_pickup_datetime  datetime64[ns]\n",
      " 1   passenger_count       category      \n",
      " 2   trip_distance         float64       \n",
      " 3   RatecodeID            category      \n",
      " 4   payment_type          category      \n",
      " 5   total_amount          float64       \n",
      " 6   date_only             datetime64[ns]\n",
      "dtypes: category(3), datetime64[ns](2), float64(2)\n",
      "memory usage: 652.9 MB\n"
     ]
    }
   ],
   "source": [
    "taxi2020.info()"
   ]
  },
  {
   "cell_type": "markdown",
   "metadata": {},
   "source": [
    "### ANALYSIS"
   ]
  },
  {
   "cell_type": "code",
   "execution_count": 37,
   "metadata": {},
   "outputs": [
    {
     "data": {
      "text/html": [
       "<div>\n",
       "<style scoped>\n",
       "    .dataframe tbody tr th:only-of-type {\n",
       "        vertical-align: middle;\n",
       "    }\n",
       "\n",
       "    .dataframe tbody tr th {\n",
       "        vertical-align: top;\n",
       "    }\n",
       "\n",
       "    .dataframe thead th {\n",
       "        text-align: right;\n",
       "    }\n",
       "</style>\n",
       "<table border=\"1\" class=\"dataframe\">\n",
       "  <thead>\n",
       "    <tr style=\"text-align: right;\">\n",
       "      <th></th>\n",
       "      <th>tpep_pickup_datetime</th>\n",
       "      <th>passenger_count</th>\n",
       "      <th>trip_distance</th>\n",
       "      <th>RatecodeID</th>\n",
       "      <th>payment_type</th>\n",
       "      <th>total_amount</th>\n",
       "      <th>date_only</th>\n",
       "      <th>month</th>\n",
       "    </tr>\n",
       "  </thead>\n",
       "  <tbody>\n",
       "    <tr>\n",
       "      <th>0</th>\n",
       "      <td>2020-01-01 00:28:15</td>\n",
       "      <td>1.0</td>\n",
       "      <td>1.20</td>\n",
       "      <td>1.0</td>\n",
       "      <td>1.0</td>\n",
       "      <td>11.27</td>\n",
       "      <td>2020-01-01</td>\n",
       "      <td>1</td>\n",
       "    </tr>\n",
       "    <tr>\n",
       "      <th>1</th>\n",
       "      <td>2020-01-01 00:35:39</td>\n",
       "      <td>1.0</td>\n",
       "      <td>1.20</td>\n",
       "      <td>1.0</td>\n",
       "      <td>1.0</td>\n",
       "      <td>12.30</td>\n",
       "      <td>2020-01-01</td>\n",
       "      <td>1</td>\n",
       "    </tr>\n",
       "    <tr>\n",
       "      <th>2</th>\n",
       "      <td>2020-01-01 00:47:41</td>\n",
       "      <td>1.0</td>\n",
       "      <td>0.60</td>\n",
       "      <td>1.0</td>\n",
       "      <td>1.0</td>\n",
       "      <td>10.80</td>\n",
       "      <td>2020-01-01</td>\n",
       "      <td>1</td>\n",
       "    </tr>\n",
       "    <tr>\n",
       "      <th>3</th>\n",
       "      <td>2020-01-01 00:55:23</td>\n",
       "      <td>1.0</td>\n",
       "      <td>0.80</td>\n",
       "      <td>1.0</td>\n",
       "      <td>1.0</td>\n",
       "      <td>8.16</td>\n",
       "      <td>2020-01-01</td>\n",
       "      <td>1</td>\n",
       "    </tr>\n",
       "    <tr>\n",
       "      <th>5</th>\n",
       "      <td>2020-01-01 00:09:44</td>\n",
       "      <td>1.0</td>\n",
       "      <td>0.03</td>\n",
       "      <td>1.0</td>\n",
       "      <td>2.0</td>\n",
       "      <td>3.80</td>\n",
       "      <td>2020-01-01</td>\n",
       "      <td>1</td>\n",
       "    </tr>\n",
       "  </tbody>\n",
       "</table>\n",
       "</div>"
      ],
      "text/plain": [
       "  tpep_pickup_datetime passenger_count  trip_distance RatecodeID payment_type  \\\n",
       "0  2020-01-01 00:28:15             1.0           1.20        1.0          1.0   \n",
       "1  2020-01-01 00:35:39             1.0           1.20        1.0          1.0   \n",
       "2  2020-01-01 00:47:41             1.0           0.60        1.0          1.0   \n",
       "3  2020-01-01 00:55:23             1.0           0.80        1.0          1.0   \n",
       "5  2020-01-01 00:09:44             1.0           0.03        1.0          2.0   \n",
       "\n",
       "   total_amount  date_only  month  \n",
       "0         11.27 2020-01-01      1  \n",
       "1         12.30 2020-01-01      1  \n",
       "2         10.80 2020-01-01      1  \n",
       "3          8.16 2020-01-01      1  \n",
       "5          3.80 2020-01-01      1  "
      ]
     },
     "execution_count": 37,
     "metadata": {},
     "output_type": "execute_result"
    }
   ],
   "source": [
    "# creating month column\n",
    "\n",
    "taxi2020['month'] = pd.DatetimeIndex(taxi2020['tpep_pickup_datetime']).month\n",
    "\n",
    "taxi2020.head()"
   ]
  },
  {
   "cell_type": "code",
   "execution_count": 38,
   "metadata": {},
   "outputs": [
    {
     "data": {
      "image/png": "[encoded data removed]",
      "text/plain": [
       "<Figure size 432x288 with 1 Axes>"
      ]
     },
     "metadata": {
      "needs_background": "light"
     },
     "output_type": "display_data"
    }
   ],
   "source": [
    "# of taxi trips MoM\n",
    "\n",
    "taxi2020['month'].plot(kind='hist');\n",
    "plt.title(\"# of Taxi Trips Throughout 2020\");\n",
    "plt.xlabel(\"Month of 2020\");\n",
    "plt.ylabel(\"Number of Taxi Trips (in millions)\");\n",
    "\n",
    "plt.show()"
   ]
  },
  {
   "cell_type": "code",
   "execution_count": 39,
   "metadata": {},
   "outputs": [
    {
     "data": {
      "text/plain": [
       "month\n",
       "1    6114226\n",
       "2    6022925\n",
       "3    2851222\n",
       "6     463878\n",
       "5     266422\n",
       "4     202842\n",
       "dtype: int64"
      ]
     },
     "execution_count": 39,
     "metadata": {},
     "output_type": "execute_result"
    }
   ],
   "source": [
    "# group by month for number of trips\n",
    "\n",
    "taxi2020.groupby('month').size().sort_values(ascending = False)"
   ]
  },
  {
   "cell_type": "markdown",
   "metadata": {},
   "source": [
    "### Hypothesis #1\n",
    "**Trips drop in March due to the WFH protocol**"
   ]
  },
  {
   "cell_type": "code",
   "execution_count": 40,
   "metadata": {},
   "outputs": [
    {
     "name": "stdout",
     "output_type": "stream",
     "text": [
      "[1, 2, 3, 4, 5, 6]\n"
     ]
    }
   ],
   "source": [
    "# creating a month list\n",
    "\n",
    "month = []\n",
    "for mon in taxi2020['month'].unique():\n",
    "    month.append(mon)\n",
    "    \n",
    "print(month)"
   ]
  },
  {
   "cell_type": "code",
   "execution_count": 41,
   "metadata": {},
   "outputs": [
    {
     "name": "stdout",
     "output_type": "stream",
     "text": [
      "[6114226, 6022925, 2851222, 202842, 266422, 463878]\n"
     ]
    }
   ],
   "source": [
    "# creating a trips list \n",
    "\n",
    "trips = []\n",
    "\n",
    "for value in taxi2020.groupby('month').size():\n",
    "    trips.append(value)\n",
    "    \n",
    "print(trips)"
   ]
  },
  {
   "cell_type": "code",
   "execution_count": 42,
   "metadata": {},
   "outputs": [
    {
     "name": "stdout",
     "output_type": "stream",
     "text": [
      "[1, 2, 3, 4, 5, 6]\n",
      "[6114226, 6022925, 2851222, 202842, 266422, 463878]\n",
      "---------------\n",
      "Difference from month 1 to month 2: 91301\n",
      "Difference from month 2 to month 3: 3171703\n",
      "Difference from month 3 to month 4: 2648380\n",
      "Difference from month 4 to month 5: 63580\n",
      "Difference from month 5 to month 6: 197456\n"
     ]
    }
   ],
   "source": [
    "# finding the difference in trips MoM\n",
    "\n",
    "print(month)\n",
    "print(trips)\n",
    "print('---------------')\n",
    "\n",
    "difference = []\n",
    "index = 0\n",
    "\n",
    "for value in trips[1:]:\n",
    "    diff = abs(trips[index] - value)\n",
    "    difference.append(diff)\n",
    "    print(f'Difference from month {month[index]} to month {month[index + 1]}: {diff}')\n",
    "    index += 1"
   ]
  },
  {
   "cell_type": "code",
   "execution_count": 43,
   "metadata": {},
   "outputs": [
    {
     "name": "stdout",
     "output_type": "stream",
     "text": [
      "The largest difference in trips was 3171703, from month 2 to month 3.\n"
     ]
    }
   ],
   "source": [
    "# finding the largest difference in trips MoM\n",
    "\n",
    "max_diff_index = difference.index(max(difference))\n",
    "max_diff = difference[max_diff_index]\n",
    "\n",
    "# print(max_diff)\n",
    "# print(difference[max_diff])\n",
    "print(f'The largest difference in trips was {max_diff}, from month {month[max_diff_index]} to month {month[max_diff_index + 1]}.')"
   ]
  },
  {
   "cell_type": "code",
   "execution_count": 44,
   "metadata": {},
   "outputs": [
    {
     "data": {
      "text/html": [
       "<div>\n",
       "<style scoped>\n",
       "    .dataframe tbody tr th:only-of-type {\n",
       "        vertical-align: middle;\n",
       "    }\n",
       "\n",
       "    .dataframe tbody tr th {\n",
       "        vertical-align: top;\n",
       "    }\n",
       "\n",
       "    .dataframe thead th {\n",
       "        text-align: right;\n",
       "    }\n",
       "</style>\n",
       "<table border=\"1\" class=\"dataframe\">\n",
       "  <thead>\n",
       "    <tr style=\"text-align: right;\">\n",
       "      <th></th>\n",
       "      <th>tpep_pickup_datetime</th>\n",
       "      <th>passenger_count</th>\n",
       "      <th>trip_distance</th>\n",
       "      <th>RatecodeID</th>\n",
       "      <th>payment_type</th>\n",
       "      <th>total_amount</th>\n",
       "      <th>date_only</th>\n",
       "      <th>month</th>\n",
       "    </tr>\n",
       "  </thead>\n",
       "  <tbody>\n",
       "    <tr>\n",
       "      <th>31464</th>\n",
       "      <td>2020-03-10 08:11:02</td>\n",
       "      <td>1.0</td>\n",
       "      <td>1.70</td>\n",
       "      <td>1.0</td>\n",
       "      <td>2.0</td>\n",
       "      <td>9.80</td>\n",
       "      <td>2020-03-10</td>\n",
       "      <td>3</td>\n",
       "    </tr>\n",
       "    <tr>\n",
       "      <th>32189</th>\n",
       "      <td>2020-03-10 10:11:42</td>\n",
       "      <td>1.0</td>\n",
       "      <td>9.08</td>\n",
       "      <td>1.0</td>\n",
       "      <td>2.0</td>\n",
       "      <td>35.30</td>\n",
       "      <td>2020-03-10</td>\n",
       "      <td>3</td>\n",
       "    </tr>\n",
       "    <tr>\n",
       "      <th>32458</th>\n",
       "      <td>2020-03-10 10:48:24</td>\n",
       "      <td>1.0</td>\n",
       "      <td>1.92</td>\n",
       "      <td>1.0</td>\n",
       "      <td>2.0</td>\n",
       "      <td>14.80</td>\n",
       "      <td>2020-03-10</td>\n",
       "      <td>3</td>\n",
       "    </tr>\n",
       "    <tr>\n",
       "      <th>32674</th>\n",
       "      <td>2020-03-10 11:57:20</td>\n",
       "      <td>1.0</td>\n",
       "      <td>2.10</td>\n",
       "      <td>1.0</td>\n",
       "      <td>1.0</td>\n",
       "      <td>19.24</td>\n",
       "      <td>2020-03-10</td>\n",
       "      <td>3</td>\n",
       "    </tr>\n",
       "    <tr>\n",
       "      <th>32675</th>\n",
       "      <td>2020-03-10 12:25:14</td>\n",
       "      <td>1.0</td>\n",
       "      <td>0.59</td>\n",
       "      <td>1.0</td>\n",
       "      <td>1.0</td>\n",
       "      <td>9.10</td>\n",
       "      <td>2020-03-10</td>\n",
       "      <td>3</td>\n",
       "    </tr>\n",
       "  </tbody>\n",
       "</table>\n",
       "</div>"
      ],
      "text/plain": [
       "      tpep_pickup_datetime passenger_count  trip_distance RatecodeID  \\\n",
       "31464  2020-03-10 08:11:02             1.0           1.70        1.0   \n",
       "32189  2020-03-10 10:11:42             1.0           9.08        1.0   \n",
       "32458  2020-03-10 10:48:24             1.0           1.92        1.0   \n",
       "32674  2020-03-10 11:57:20             1.0           2.10        1.0   \n",
       "32675  2020-03-10 12:25:14             1.0           0.59        1.0   \n",
       "\n",
       "      payment_type  total_amount  date_only  month  \n",
       "31464          2.0          9.80 2020-03-10      3  \n",
       "32189          2.0         35.30 2020-03-10      3  \n",
       "32458          2.0         14.80 2020-03-10      3  \n",
       "32674          1.0         19.24 2020-03-10      3  \n",
       "32675          1.0          9.10 2020-03-10      3  "
      ]
     },
     "execution_count": 44,
     "metadata": {},
     "output_type": "execute_result"
    }
   ],
   "source": [
    "# Creating a variable within the taxi2020 dataset to reflect just March data\n",
    "\n",
    "mar_2020 = taxi2020[(taxi2020['tpep_pickup_datetime'] >= '2020-03-01') & (taxi2020['tpep_pickup_datetime'] <= '2020-03-31')]\n",
    "\n",
    "mar_2020.tail()"
   ]
  },
  {
   "cell_type": "code",
   "execution_count": 45,
   "metadata": {},
   "outputs": [
    {
     "data": {
      "image/png": "[encoded data removed]",
      "text/plain": [
       "<Figure size 1080x360 with 1 Axes>"
      ]
     },
     "metadata": {
      "needs_background": "light"
     },
     "output_type": "display_data"
    }
   ],
   "source": [
    "plt.figure(figsize=(15,5));\n",
    "plt.plot(mar_2020['date_only'].value_counts().sort_index());\n",
    "plt.title(\"# of Taxi Trips Throughout March 2020\");\n",
    "plt.xlabel(\"Date\");\n",
    "plt.ylabel(\"Number of Taxi Trips\");"
   ]
  },
  {
   "cell_type": "code",
   "execution_count": 46,
   "metadata": {},
   "outputs": [
    {
     "name": "stdout",
     "output_type": "stream",
     "text": [
      "Trips 1H March: 2500345\n",
      "\n",
      "       trip_distance  total_amount\n",
      "month                             \n",
      "3           2.823188     18.315634\n",
      "---------------------------------------\n",
      "Trips 2H March: 286464\n",
      "\n",
      "       trip_distance  total_amount\n",
      "month                             \n",
      "3           3.014853     16.996811\n"
     ]
    }
   ],
   "source": [
    "# since March (3/16) was when wfh was implemented, let's check trips 1H vs 2H of March\n",
    "\n",
    "mar_1h = taxi2020[(taxi2020['tpep_pickup_datetime'] >= '2020-03-01') & (taxi2020['tpep_pickup_datetime'] <= '2020-03-15')]\n",
    "mar1h_trips = mar_1h['tpep_pickup_datetime'].count()\n",
    "print(f'Trips 1H March: {mar1h_trips}\\n')\n",
    "print(mar_1h.groupby('month')[['trip_distance', 'total_amount']].mean())\n",
    "\n",
    "print('---------------------------------------')\n",
    "\n",
    "mar_2h = taxi2020[(taxi2020['tpep_pickup_datetime'] >= '2020-03-16') & (taxi2020['tpep_pickup_datetime'] <= '2020-03-31')]\n",
    "mar2h_trips = mar_2h['tpep_pickup_datetime'].count()\n",
    "print(f'Trips 2H March: {mar2h_trips}\\n')\n",
    "print(mar_2h.groupby('month')[['trip_distance', 'total_amount']].mean())"
   ]
  },
  {
   "cell_type": "code",
   "execution_count": 47,
   "metadata": {},
   "outputs": [
    {
     "name": "stdout",
     "output_type": "stream",
     "text": [
      "2,213,881 less trips in 2H March\n",
      "2H March had 10 % of the total trips in March\n"
     ]
    }
   ],
   "source": [
    "# How many less trips in 2H March?\n",
    "\n",
    "print(\"{:,}\".format(abs(mar2h_trips - mar1h_trips)), 'less trips in 2H March')\n",
    "print('2H March had', str(round(mar2h_trips / (mar2h_trips + mar1h_trips) * 100)), '% of the total trips in March')"
   ]
  },
  {
   "cell_type": "code",
   "execution_count": 48,
   "metadata": {},
   "outputs": [
    {
     "name": "stdout",
     "output_type": "stream",
     "text": [
      "8.728304429177838\n"
     ]
    }
   ],
   "source": [
    "# How much of a change in trips from 1H to 2H?\n",
    "\n",
    "change_march_trips = mar1h_trips / mar2h_trips\n",
    "print(change_march_trips)"
   ]
  },
  {
   "cell_type": "markdown",
   "metadata": {},
   "source": [
    "**--> INSIGHT:** Trips drastically dropped by almost 9x in the 2H of March, achieving only 10% of overall March trips. Average trip distance increased in 2H March, whereas trip amounts saw a slight decrease, however this could potentially be relative to the number of trips taken in 2H March."
   ]
  },
  {
   "cell_type": "markdown",
   "metadata": {},
   "source": [
    "### Hypothesis #2\n",
    "**Trips to increase again in June, as that's when NYC begins to reopen and enter Phase 1 (6/8) + Phase 2 (6/22)**"
   ]
  },
  {
   "cell_type": "code",
   "execution_count": 49,
   "metadata": {},
   "outputs": [
    {
     "data": {
      "text/html": [
       "<div>\n",
       "<style scoped>\n",
       "    .dataframe tbody tr th:only-of-type {\n",
       "        vertical-align: middle;\n",
       "    }\n",
       "\n",
       "    .dataframe tbody tr th {\n",
       "        vertical-align: top;\n",
       "    }\n",
       "\n",
       "    .dataframe thead th {\n",
       "        text-align: right;\n",
       "    }\n",
       "</style>\n",
       "<table border=\"1\" class=\"dataframe\">\n",
       "  <thead>\n",
       "    <tr style=\"text-align: right;\">\n",
       "      <th></th>\n",
       "      <th>tpep_pickup_datetime</th>\n",
       "      <th>passenger_count</th>\n",
       "      <th>trip_distance</th>\n",
       "      <th>RatecodeID</th>\n",
       "      <th>payment_type</th>\n",
       "      <th>total_amount</th>\n",
       "      <th>date_only</th>\n",
       "      <th>month</th>\n",
       "    </tr>\n",
       "  </thead>\n",
       "  <tbody>\n",
       "    <tr>\n",
       "      <th>499038</th>\n",
       "      <td>2020-06-30 23:07:00</td>\n",
       "      <td>1.0</td>\n",
       "      <td>1.06</td>\n",
       "      <td>1.0</td>\n",
       "      <td>2.0</td>\n",
       "      <td>12.42</td>\n",
       "      <td>2020-06-30</td>\n",
       "      <td>6</td>\n",
       "    </tr>\n",
       "    <tr>\n",
       "      <th>499039</th>\n",
       "      <td>2020-06-30 23:24:49</td>\n",
       "      <td>1.0</td>\n",
       "      <td>1.52</td>\n",
       "      <td>1.0</td>\n",
       "      <td>1.0</td>\n",
       "      <td>10.56</td>\n",
       "      <td>2020-06-30</td>\n",
       "      <td>6</td>\n",
       "    </tr>\n",
       "    <tr>\n",
       "      <th>499040</th>\n",
       "      <td>2020-06-30 23:57:38</td>\n",
       "      <td>1.0</td>\n",
       "      <td>13.36</td>\n",
       "      <td>1.0</td>\n",
       "      <td>2.0</td>\n",
       "      <td>44.92</td>\n",
       "      <td>2020-06-30</td>\n",
       "      <td>6</td>\n",
       "    </tr>\n",
       "    <tr>\n",
       "      <th>499041</th>\n",
       "      <td>2020-06-30 23:08:03</td>\n",
       "      <td>1.0</td>\n",
       "      <td>2.23</td>\n",
       "      <td>1.0</td>\n",
       "      <td>2.0</td>\n",
       "      <td>14.80</td>\n",
       "      <td>2020-06-30</td>\n",
       "      <td>6</td>\n",
       "    </tr>\n",
       "    <tr>\n",
       "      <th>499042</th>\n",
       "      <td>2020-06-30 23:06:50</td>\n",
       "      <td>1.0</td>\n",
       "      <td>1.43</td>\n",
       "      <td>1.0</td>\n",
       "      <td>1.0</td>\n",
       "      <td>14.13</td>\n",
       "      <td>2020-06-30</td>\n",
       "      <td>6</td>\n",
       "    </tr>\n",
       "  </tbody>\n",
       "</table>\n",
       "</div>"
      ],
      "text/plain": [
       "       tpep_pickup_datetime passenger_count  trip_distance RatecodeID  \\\n",
       "499038  2020-06-30 23:07:00             1.0           1.06        1.0   \n",
       "499039  2020-06-30 23:24:49             1.0           1.52        1.0   \n",
       "499040  2020-06-30 23:57:38             1.0          13.36        1.0   \n",
       "499041  2020-06-30 23:08:03             1.0           2.23        1.0   \n",
       "499042  2020-06-30 23:06:50             1.0           1.43        1.0   \n",
       "\n",
       "       payment_type  total_amount  date_only  month  \n",
       "499038          2.0         12.42 2020-06-30      6  \n",
       "499039          1.0         10.56 2020-06-30      6  \n",
       "499040          2.0         44.92 2020-06-30      6  \n",
       "499041          2.0         14.80 2020-06-30      6  \n",
       "499042          1.0         14.13 2020-06-30      6  "
      ]
     },
     "execution_count": 49,
     "metadata": {},
     "output_type": "execute_result"
    }
   ],
   "source": [
    "# Creating a variable within the taxi2020 dataset to reflect just June data\n",
    "\n",
    "jun_2020 = taxi2020[(taxi2020['date_only'] >= '2020-06-01') & (taxi2020['date_only'] <= '2020-06-30')]\n",
    "\n",
    "jun_2020.tail()"
   ]
  },
  {
   "cell_type": "code",
   "execution_count": 50,
   "metadata": {},
   "outputs": [
    {
     "data": {
      "image/png": "[encoded data removed]",
      "text/plain": [
       "<Figure size 1080x360 with 1 Axes>"
      ]
     },
     "metadata": {
      "needs_background": "light"
     },
     "output_type": "display_data"
    }
   ],
   "source": [
    "plt.figure(figsize=(15,5));\n",
    "plt.plot(jun_2020['date_only'].value_counts().sort_index());\n",
    "plt.title(\"# of Taxi Trips Throughout June 2020\");\n",
    "plt.xlabel(\"Date\");\n",
    "plt.ylabel(\"Number of Taxi Trips\");"
   ]
  },
  {
   "cell_type": "markdown",
   "metadata": {},
   "source": [
    "**--> INSIGHTS:** We see trip increases at 6/8 and 6/22 when NYC began to reopen for Phase 1 + 2. We also see a pattern in trips occur approx. 3.5 times throughout the month. There are dips around 6/6 - 6/7, 6/13 - 6/14, 6/20 - 6/21, and lastly 6/27 - 6/28. When comparing these approximate dates to the 2020 calendar, we notice that the dips occur during Saturday and Sunday (weekends). Despite the weekend dips, each lowest point of the dip gradually had a greater number of overall trips."
   ]
  },
  {
   "cell_type": "markdown",
   "metadata": {},
   "source": [
    "### Hypothesis #3\n",
    "**The average trip distance and total amount to increase, as people would potentially prefer taking taxis over public transportation**"
   ]
  },
  {
   "cell_type": "code",
   "execution_count": 51,
   "metadata": {},
   "outputs": [
    {
     "data": {
      "text/html": [
       "<div>\n",
       "<style scoped>\n",
       "    .dataframe tbody tr th:only-of-type {\n",
       "        vertical-align: middle;\n",
       "    }\n",
       "\n",
       "    .dataframe tbody tr th {\n",
       "        vertical-align: top;\n",
       "    }\n",
       "\n",
       "    .dataframe thead th {\n",
       "        text-align: right;\n",
       "    }\n",
       "</style>\n",
       "<table border=\"1\" class=\"dataframe\">\n",
       "  <thead>\n",
       "    <tr style=\"text-align: right;\">\n",
       "      <th></th>\n",
       "      <th>trip_distance</th>\n",
       "      <th>total_amount</th>\n",
       "    </tr>\n",
       "    <tr>\n",
       "      <th>month</th>\n",
       "      <th></th>\n",
       "      <th></th>\n",
       "    </tr>\n",
       "  </thead>\n",
       "  <tbody>\n",
       "    <tr>\n",
       "      <th>1</th>\n",
       "      <td>2.881262</td>\n",
       "      <td>18.427237</td>\n",
       "    </tr>\n",
       "    <tr>\n",
       "      <th>2</th>\n",
       "      <td>2.819383</td>\n",
       "      <td>18.428506</td>\n",
       "    </tr>\n",
       "    <tr>\n",
       "      <th>3</th>\n",
       "      <td>2.854207</td>\n",
       "      <td>18.174045</td>\n",
       "    </tr>\n",
       "    <tr>\n",
       "      <th>4</th>\n",
       "      <td>2.690671</td>\n",
       "      <td>15.418834</td>\n",
       "    </tr>\n",
       "    <tr>\n",
       "      <th>5</th>\n",
       "      <td>2.787820</td>\n",
       "      <td>15.960645</td>\n",
       "    </tr>\n",
       "    <tr>\n",
       "      <th>6</th>\n",
       "      <td>2.917333</td>\n",
       "      <td>16.999032</td>\n",
       "    </tr>\n",
       "  </tbody>\n",
       "</table>\n",
       "</div>"
      ],
      "text/plain": [
       "       trip_distance  total_amount\n",
       "month                             \n",
       "1           2.881262     18.427237\n",
       "2           2.819383     18.428506\n",
       "3           2.854207     18.174045\n",
       "4           2.690671     15.418834\n",
       "5           2.787820     15.960645\n",
       "6           2.917333     16.999032"
      ]
     },
     "execution_count": 51,
     "metadata": {},
     "output_type": "execute_result"
    }
   ],
   "source": [
    "# group by month for trip distance and/or price MoM\n",
    "\n",
    "taxi2020.groupby('month')[['trip_distance', 'total_amount']].mean()"
   ]
  },
  {
   "cell_type": "markdown",
   "metadata": {},
   "source": [
    "**--> INSIGHTS:** Although we saw that the number of trips drastically decreased from February to March, the month's overall trip distance and trip amounts were relatively consistent MoM. This could potentially be due to majority of trips occurring in 1H March (90%), therefore driving consistent trip distance and trip amount.\n",
    "\n",
    "We also see trip distance and trip amounts at its lowest in April, relative to the number of the month's total trips. However, when trips began to increase again in June, we see trip distance and trip amounts exceed that of pre-WFH months (Jan + Feb), despite having drastically lower trips"
   ]
  },
  {
   "cell_type": "markdown",
   "metadata": {},
   "source": [
    "### Hypothesis #4\n",
    "**Single passengers to show an increase MoM vs. Group riders due to social distancing measures**"
   ]
  },
  {
   "cell_type": "code",
   "execution_count": 52,
   "metadata": {},
   "outputs": [],
   "source": [
    "# Creating a single-passenger dataframe\n",
    "\n",
    "single = taxi2020[taxi2020['passenger_count'] == 1]"
   ]
  },
  {
   "cell_type": "code",
   "execution_count": 53,
   "metadata": {},
   "outputs": [
    {
     "data": {
      "text/plain": [
       "month\n",
       "1    4457388\n",
       "2    4411772\n",
       "3    2141734\n",
       "4     169342\n",
       "5     216856\n",
       "6     368726\n",
       "dtype: int64"
      ]
     },
     "execution_count": 53,
     "metadata": {},
     "output_type": "execute_result"
    }
   ],
   "source": [
    "single.groupby('month')[['passenger_count']].size()"
   ]
  },
  {
   "cell_type": "code",
   "execution_count": 54,
   "metadata": {},
   "outputs": [
    {
     "name": "stdout",
     "output_type": "stream",
     "text": [
      "Single Riders List MoM: [4457388, 4411772, 2141734, 169342, 216856, 368726]\n",
      "Total Trips MoM: [6114226, 6022925, 2851222, 202842, 266422, 463878]\n"
     ]
    }
   ],
   "source": [
    "# Creating a single-passenger list\n",
    "\n",
    "single_riders = []\n",
    "for value in single.groupby('month').size():\n",
    "    single_riders.append(value)\n",
    "    \n",
    "print(f'Single Riders List MoM: {single_riders}')\n",
    "\n",
    "# total trips from earlier list in Hypothesis #1:\n",
    "print(f'Total Trips MoM: {trips}')"
   ]
  },
  {
   "cell_type": "code",
   "execution_count": 55,
   "metadata": {},
   "outputs": [
    {
     "data": {
      "image/png": "[encoded data removed]",
      "text/plain": [
       "<Figure size 720x360 with 1 Axes>"
      ]
     },
     "metadata": {
      "needs_background": "light"
     },
     "output_type": "display_data"
    }
   ],
   "source": [
    "# Visualizing Single Riders and Total Month Trips side by side\n",
    "\n",
    "# Position of bars on x-axis\n",
    "ind = np.arange(len(month))\n",
    "\n",
    "# Figure size\n",
    "plt.figure(figsize=(10,5))\n",
    "\n",
    "# Width of a bar \n",
    "width = 0.2   \n",
    "\n",
    "# Plotting\n",
    "plt.bar(ind, single_riders , width, label='Single Rider Trips')\n",
    "plt.bar(ind + width, trips, width, label='Month Trips')\n",
    "\n",
    "plt.xlabel('Months', fontsize=12)\n",
    "plt.ylabel('# of Trips (in millions)', fontsize=12)\n",
    "plt.title('Single Rider Trips vs. Overall Month Trips', fontsize=15)\n",
    "\n",
    "# xticks()\n",
    "# First argument - A list of positions at which ticks should be placed\n",
    "# Second argument -  A list of labels to place at the given locations\n",
    "plt.xticks(ind + width / 2, ('Jan', 'Feb', 'Mar', 'Apr', 'May', 'Jun'), fontsize=12)\n",
    "\n",
    "# Finding the best position for legends and putting it\n",
    "plt.legend(loc='best', fontsize=12)\n",
    "plt.show()"
   ]
  },
  {
   "cell_type": "code",
   "execution_count": 56,
   "metadata": {},
   "outputs": [
    {
     "name": "stdout",
     "output_type": "stream",
     "text": [
      "{1: '73%', 2: '73%', 3: '75%', 4: '83%', 5: '81%', 6: '79%'}\n"
     ]
    }
   ],
   "source": [
    "# Percentage of Single Riders MoM\n",
    "\n",
    "trip_index = 0\n",
    "month_index = 1\n",
    "mom_single = {}\n",
    "\n",
    "for single in single_riders:\n",
    "    mom_single[month_index] = str(round(single / trips[trip_index] * 100)) + '%'\n",
    "    trip_index += 1\n",
    "    month_index += 1\n",
    "    \n",
    "print(mom_single)"
   ]
  },
  {
   "cell_type": "markdown",
   "metadata": {},
   "source": [
    "**--> INSIGHTS:** In April, when trips were lowest, we see an increase in the percentage of single riders in relation to the total trips made in April. This trend continues in May and June, respective to the months' total trips. Visually, we see the gaps between Single Rider vs overall month trips become smaller MoM."
   ]
  },
  {
   "cell_type": "markdown",
   "metadata": {},
   "source": [
    "### Challenges Encountered\n",
    "\n",
    "- A lot of varying trip_distance vs trip_amount\n",
    "    - For example, 3 mi trip distance would be `$7.50` for one record, but `$55` for another record\n",
    "- A lot of possible human error when entering the data, which could've potentially skewed data if not cleaned/filtered properly\n",
    "    - For example, a large number of 0 passenger trips or 0 mi trips"
   ]
  },
  {
   "cell_type": "markdown",
   "metadata": {},
   "source": [
    "### Conclusion / Key Takeaways\n",
    "\n",
    "1. **TRUE: Trips drop in March due to the WFH COVID protocol**\n",
    "    - Specifically in the 2H of March, where the number of Yellow Taxi trips drop drastically by almost 9x in the 2H of March, achieving only 10% of overall March trips\n",
    "2. **TRUE: Trips to increase again in June, as that's when NYC begins to reopen and enter Phase 1 (6/8) + Phase 2 (6/22)**\n",
    "    - Additionally, the number of trips began to develop a pattern this month, with trip dips during the Weekends, as typical travelers are throughout the Weekdays, potentially front-line healthcare workers or essential business workers\n",
    "    - Another potential increase in trips in June could be due to BLM protests\n",
    "3. **DEPENDS: The average trip distance and total amount to increase, as people would potentially prefer taking taxis over public transportation**\n",
    "    - Overall trip distance and trip amounts lower during COVID months April and May vs. Jan and Feb. However, the lower average numbers corresponds to the significantly lower number of trips during those months. When trips began to increase again in June, trip distance and trip amounts exceed that of pre-WFH months (Jan + Feb), despite having drastically lower trips\n",
    "4. **TRUE: Single passengers to show an increase MoM vs. Group riders, potentially due to social distancing measures**\n",
    "   - Single passenger rider percentage was at 73% for months prior to the WFH protocol (Jan and Feb). The percentage largely increase by +10% in April (83%), when there were the least Yellow Taxi trips made. In the latter months of 2020, single rider percentages remain greater than the percentages pre-WFH (May: 81% and June: 79%)."
   ]
  },
  {
   "cell_type": "markdown",
   "metadata": {},
   "source": [
    "### Future Analysis/Refinements\n",
    "- Analyze from another perspective (trip duration) by keeping column `tpep_dropoff_datetime`\n",
    "- Take a deeper look into trip_distance vs. trip_amount to properly filter and clean data, respective to `RatecodeID`\n",
    "    - Deeper dive into `RatecodeID` and how trips differed for each code ID\n",
    "- Further analyze trip duration of single riders MoM"
   ]
  },
  {
   "cell_type": "markdown",
   "metadata": {},
   "source": [
    "### Additional Resources:\n",
    "\n",
    "More information on NYC Phase Reopens and BLM timeline:\n",
    "- https://www.nytimes.com/article/new-york-phase-reopening.html\n",
    "- https://www.nytimes.com/article/george-floyd-protests-timeline.html?auth=login-google\n",
    "- https://en.wikipedia.org/wiki/George_Floyd_protests_in_New_York_City"
   ]
  },
  {
   "cell_type": "markdown",
   "metadata": {},
   "source": [
    "Last Updated: 10/29/20"
   ]
  }
 ],
 "metadata": {
  "kernelspec": {
   "display_name": "Python 3",
   "language": "python",
   "name": "python3"
  },
  "language_info": {
   "codemirror_mode": {
    "name": "ipython",
    "version": 3
   },
   "file_extension": ".py",
   "mimetype": "text/x-python",
   "name": "python",
   "nbconvert_exporter": "python",
   "pygments_lexer": "ipython3",
   "version": "3.7.4"
  }
 },
 "nbformat": 4,
 "nbformat_minor": 4
}
